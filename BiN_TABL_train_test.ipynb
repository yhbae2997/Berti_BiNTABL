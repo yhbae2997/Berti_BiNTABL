{
  "cells": [
    {
      "cell_type": "markdown",
      "metadata": {
        "id": "P-PVsZeWjCiw"
      },
      "source": [
        "### **BiN-TABL**"
      ]
    },
    {
      "cell_type": "code",
      "execution_count": 1,
      "metadata": {
        "id": "AVPONVeVw0nh"
      },
      "outputs": [],
      "source": [
        "# load packages\n",
        "import sys\n",
        "from datetime import datetime\n",
        "\n",
        "import matplotlib.pyplot as plt\n",
        "import numpy as np\n",
        "import torch\n",
        "import torch.nn as nn\n",
        "import torch.optim as optim\n",
        "from sklearn.metrics import (ConfusionMatrixDisplay, accuracy_score,\n",
        "                             classification_report, confusion_matrix)\n",
        "from torch.utils import data\n",
        "\n",
        "if 'ipykernel' in sys.modules and False:\n",
        "    from tqdm.notebook import tqdm\n",
        "else:\n",
        "    from tqdm import tqdm\n",
        "\n",
        "device = torch.device(\"cuda:0\" if torch.cuda.is_available() else \"cpu\")\n",
        "SAVE_FILE_PATH = './best_model_BiNCTABL'"
      ]
    },
    {
      "cell_type": "markdown",
      "metadata": {
        "id": "aNdy1u5zjMaw"
      },
      "source": [
        "### **Data**\n",
        "The dataset used is the LI-2010 dataset. \n",
        "\n",
        "As in the original paper I used the first 7 days to train and to validate, and the rest 3 days to do the the testing. "
      ]
    },
    {
      "cell_type": "code",
      "execution_count": 3,
      "metadata": {
        "id": "ls5u0jngxkjl"
      },
      "outputs": [
        {
          "name": "stdout",
          "output_type": "stream",
          "text": [
            "(203800, 40)\n"
          ]
        }
      ],
      "source": [
        "# please change the data_path to your local path and download the free dataset\n",
        "\n",
        "dec_data = np.loadtxt('./BenchmarkDatasets/NoAuction/1.NoAuction_Zscore/NoAuction_Zscore_Training/Train_Dst_NoAuction_ZScore_CF_7.txt')\n",
        "dec_train = dec_data[:, :int(dec_data.shape[1] * 0.8)]\n",
        "dec_val = dec_data[:, int(dec_data.shape[1] * 0.8):]\n",
        "\n",
        "dec_test1 = np.loadtxt('./BenchmarkDatasets/NoAuction/1.NoAuction_Zscore/NoAuction_Zscore_Testing/Test_Dst_NoAuction_ZScore_CF_7.txt')\n",
        "dec_test2 = np.loadtxt('./BenchmarkDatasets/NoAuction/1.NoAuction_Zscore/NoAuction_Zscore_Testing/Test_Dst_NoAuction_ZScore_CF_8.txt')\n",
        "dec_test3 = np.loadtxt('./BenchmarkDatasets/NoAuction/1.NoAuction_Zscore/NoAuction_Zscore_Testing/Test_Dst_NoAuction_ZScore_CF_9.txt')\n",
        "dec_test = np.hstack((dec_test1, dec_test2, dec_test3))\n",
        "\n",
        "h = 2        \n",
        "dim = 10\n",
        "\n",
        "y_train = dec_train[-h, :].flatten()\n",
        "y_val = dec_val[-h, :].flatten()\n",
        "y_test = dec_test[-h, :].flatten()\n",
        "\n",
        "y_train = y_train[dim-1:] - 1\n",
        "y_val = y_val[dim-1:] - 1\n",
        "y_test = y_test[dim-1:] - 1 \n",
        "\n",
        "dec_train = dec_train[:40, :].T\n",
        "dec_val = dec_val[:40, :].T\n",
        "dec_test = dec_test[:40, :].T\n",
        "\n",
        "print(dec_train.shape)\n"
      ]
    },
    {
      "cell_type": "code",
      "execution_count": 4,
      "metadata": {},
      "outputs": [],
      "source": [
        "#Computing weights for the weighted cross entropy loss\n",
        "def compute_weights(y):\n",
        "  cont_0 = 0\n",
        "  cont_1 = 0\n",
        "  cont_2 = 0\n",
        "  for i in range(y.shape[0]):\n",
        "    if (y[i] == 0):\n",
        "      cont_0 += 1\n",
        "    elif (y[i] == 1):\n",
        "      cont_1 += 1\n",
        "    elif (y[i] == 2):\n",
        "      cont_2 += 2\n",
        "    else: \n",
        "      raise Exception(\"wrong labels\")\n",
        "  return torch.Tensor([1e6/cont_0, 1e6/cont_1, 1e6/cont_2]).to(device)\n",
        "\n",
        "y_total = np.concatenate((y_train, y_val, y_test))\n",
        "weights = compute_weights(y_total)"
      ]
    },
    {
      "cell_type": "code",
      "execution_count": 5,
      "metadata": {
        "id": "8x7PAu1LySOZ"
      },
      "outputs": [],
      "source": [
        "class Dataset(data.Dataset):\n",
        "    \"\"\"Characterizes a dataset for PyTorch\"\"\"\n",
        "    def __init__(self, x, y, num_classes, dim):\n",
        "        \"\"\"Initialization\"\"\" \n",
        "        self.num_classes = num_classes\n",
        "        self.dim = dim\n",
        "        self.x = x   \n",
        "        self.y = y\n",
        "\n",
        "        self.length = x.shape[0] - (T/10) -self.dim + 1\n",
        "        print(self.length)\n",
        "\n",
        "        x = torch.from_numpy(x)\n",
        "        self.x = torch.unsqueeze(x, 1)\n",
        "        self.y = torch.from_numpy(y)\n",
        "\n",
        "    def __len__(self):\n",
        "        \"\"\"Denotes the total number of samples\"\"\"\n",
        "        return int(self.length)\n",
        "\n",
        "    def __getitem__(self, i):\n",
        "        input = self.x[i:i+self.dim, :]\n",
        "        input = input.permute(1, 2, 0)\n",
        "        input = torch.squeeze(input)\n",
        "\n",
        "        return input, self.y[i]"
      ]
    },
    {
      "cell_type": "code",
      "execution_count": 6,
      "metadata": {
        "colab": {
          "base_uri": "https://localhost:8080/"
        },
        "id": "7ndByE-Ajmq8",
        "outputId": "9158a184-f349-4fbb-8f82-74b379561ef4"
      },
      "outputs": [
        {
          "name": "stdout",
          "output_type": "stream",
          "text": [
            "50936.0\n",
            "139573.0\n",
            "203786.0\n"
          ]
        }
      ],
      "source": [
        "#Hyperparameters\n",
        "\n",
        "batch_size = 256\n",
        "epochs = 100\n",
        "T = 50   #horizon    \n",
        "lr = 0.001\n",
        "num_classes = 3\n",
        "\n",
        "dataset_val = Dataset(dec_val, y_val, num_classes, dim)\n",
        "dataset_test = Dataset(dec_test, y_test, num_classes, dim)\n",
        "dataset_train = Dataset(dec_train, y_train, num_classes, dim)\n",
        "\n",
        "train_loader = torch.utils.data.DataLoader(dataset=dataset_train, batch_size=batch_size, shuffle=True)\n",
        "val_loader = torch.utils.data.DataLoader(dataset=dataset_val, batch_size=batch_size, shuffle=False)\n",
        "test_loader = torch.utils.data.DataLoader(dataset=dataset_test, batch_size=batch_size, shuffle=False)"
      ]
    },
    {
      "cell_type": "markdown",
      "metadata": {
        "id": "DEIIi2NwjtgC"
      },
      "source": [
        "### **Model Architecture**\n",
        "The architecture is explained in the original paper"
      ]
    },
    {
      "cell_type": "code",
      "execution_count": 7,
      "metadata": {
        "id": "lhA2p2kcUj2q"
      },
      "outputs": [],
      "source": [
        "class TABL_layer(nn.Module):\n",
        "    def __init__(self, d2, d1, t1, t2):\n",
        "        super().__init__()\n",
        "        self.t1 = t1\n",
        "\n",
        "        weight = torch.Tensor(d2, d1)\n",
        "        self.W1 = nn.Parameter(weight)\n",
        "        nn.init.kaiming_uniform_(self.W1, nonlinearity='relu')\n",
        "        \n",
        "        weight2 = torch.Tensor(t1, t1)\n",
        "        self.W = nn.Parameter(weight2)\n",
        "        nn.init.constant_(self.W, 1/t1)\n",
        " \n",
        "        weight3 = torch.Tensor(t1, t2)\n",
        "        self.W2 = nn.Parameter(weight3)\n",
        "        nn.init.kaiming_uniform_(self.W2, nonlinearity='relu')\n",
        "\n",
        "        bias1 = torch.Tensor(d2, t2)\n",
        "        self.B = nn.Parameter(bias1)\n",
        "        nn.init.constant_(self.B, 0)\n",
        "\n",
        "        l = torch.Tensor(1,)\n",
        "        self.l = nn.Parameter(l)\n",
        "        nn.init.constant_(self.l, 0.5)\n",
        "\n",
        "        self.activation = nn.ReLU()\n",
        "\n",
        "    def forward(self, X):\n",
        "        \n",
        "        #maintaining the weight parameter between 0 and 1.\n",
        "        if (self.l[0] < 0): \n",
        "          l = torch.Tensor(1,).to(device)\n",
        "          self.l = nn.Parameter(l)\n",
        "          nn.init.constant_(self.l, 0.0)\n",
        "\n",
        "        if (self.l[0] > 1): \n",
        "          l = torch.Tensor(1,).to(device)\n",
        "          self.l = nn.Parameter(l)\n",
        "          nn.init.constant_(self.l, 1.0)\n",
        "     \n",
        "        #modelling the dependence along the first mode of X while keeping the temporal order intact (7)\n",
        "        X = self.W1 @ X\n",
        "\n",
        "        #enforcing constant (1) on the diagonal\n",
        "        W = self.W -self.W *torch.eye(self.t1,dtype=torch.float32).to(device)+torch.eye(self.t1,dtype=torch.float32).to(device)/self.t1\n",
        "\n",
        "        #attention, the aim of the second step is to learn how important the temporal instances are to each other (8)\n",
        "        E = X @ W\n",
        "\n",
        "        #computing the attention mask  (9)\n",
        "        A = torch.softmax(E, dim=-1)\n",
        "\n",
        "        #applying a soft attention mechanism  (10)\n",
        "        #he attention mask A obtained from the third step is used to zero out the effect of unimportant elements\n",
        "        X = self.l[0] * (X) + (1.0 - self.l[0])*X*A\n",
        "\n",
        "        #the final step of the proposed layer estimates the temporal mapping W2, after the bias shift (11)\n",
        "        y = X @ self.W2 + self.B\n",
        "        return y\n",
        "\n",
        "class BL_layer(nn.Module):\n",
        "  def __init__(self, d2, d1, t1, t2):\n",
        "        super().__init__()\n",
        "        weight1 = torch.Tensor(d2, d1)\n",
        "        self.W1 = nn.Parameter(weight1)\n",
        "        nn.init.kaiming_uniform_(self.W1, nonlinearity='relu')\n",
        "\n",
        "        weight2 = torch.Tensor(t1, t2)\n",
        "        self.W2 = nn.Parameter(weight2)\n",
        "        nn.init.kaiming_uniform_(self.W2, nonlinearity='relu')\n",
        "\n",
        "        bias1 = torch.zeros((d2, t2))\n",
        "        self.B = nn.Parameter(bias1)\n",
        "        nn.init.constant_(self.B, 0)\n",
        "\n",
        "        self.activation = nn.ReLU()\n",
        "\n",
        "  def forward(self, x):\n",
        "\n",
        "    x = self.activation(self.W1 @ x @ self.W2 + self.B)\n",
        "\n",
        "    return x"
      ]
    },
    {
      "cell_type": "code",
      "execution_count": 8,
      "metadata": {
        "id": "inSLg97R6p3k"
      },
      "outputs": [],
      "source": [
        "import math\n",
        "\n",
        "class BiN(nn.Module):\n",
        "  def __init__(self, d1, t1):\n",
        "        super().__init__()\n",
        "        self.t1 = t1\n",
        "        self.d1 = d1\n",
        "\n",
        "        bias1 = torch.Tensor(t1,1)\n",
        "        self.B1 = nn.Parameter(bias1)\n",
        "        nn.init.constant_(self.B1, 0)\n",
        "\n",
        "        l1 = torch.Tensor(t1,1)\n",
        "        self.l1 = nn.Parameter(l1)\n",
        "        nn.init.xavier_normal_(self.l1)     \n",
        "\n",
        "        bias2 = torch.Tensor(d1,1)\n",
        "        self.B2 = nn.Parameter(bias2)\n",
        "        nn.init.constant_(self.B2, 0)\n",
        "\n",
        "        l2 = torch.Tensor(d1,1)\n",
        "        self.l2 = nn.Parameter(l2)\n",
        "        nn.init.xavier_normal_(self.l2)      \n",
        "\n",
        "        y1 = torch.Tensor(1,)\n",
        "        self.y1 = nn.Parameter(y1)\n",
        "        nn.init.constant_(self.y1, 0.5)\n",
        "\n",
        "        y2 = torch.Tensor(1,)\n",
        "        self.y2 = nn.Parameter(y2)\n",
        "        nn.init.constant_(self.y2, 0.5)\n",
        "\n",
        "  def forward(self, x):\n",
        "\n",
        "    #if the two scalars are negative then we setting them to 0\n",
        "    if (self.y1[0] < 0): \n",
        "        y1 = torch.Tensor(1,).to(device)\n",
        "        self.y1 = nn.Parameter(y1)\n",
        "        nn.init.constant_(self.y1, 0.01)\n",
        "\n",
        "    if (self.y2[0] < 0): \n",
        "        y2 = torch.Tensor(1,).to(device)\n",
        "        self.y2 = nn.Parameter(y2)\n",
        "        nn.init.constant_(self.y2, 0.01)\n",
        "\n",
        "    #normalization along the temporal dimensione \n",
        "    T2 = torch.ones([self.t1, 1]).to(device)\n",
        "    x2 = torch.mean(x, axis=2).to(device) \n",
        "    x2 = torch.reshape(x2, (x2.shape[0], x2.shape[1], 1))\n",
        "\n",
        "    std = torch.std(x, axis=2)\n",
        "    std = torch.reshape(std, (std.shape[0], std.shape[1], 1))\n",
        "\n",
        "    #it can be possible that the std of some temporal slices is 0, and this produces inf values, so we have to set them to one\n",
        "    std[std < 1e-4] = 1            \n",
        "\n",
        "    diff = x - (x2@(T2.T))\n",
        "    Z2 = diff / (std@(T2.T))\n",
        "\n",
        "    X2 = self.l2 @ T2.T\n",
        "    X2 = X2 * Z2\n",
        "    X2 = X2 + (self.B2 @ T2.T)   \n",
        "\n",
        "    #normalization along the feature dimension\n",
        "    T1 = torch.ones([self.d1, 1]).to(device)\n",
        "    x1 = torch.mean(x, axis=1) \n",
        "    x1 = torch.reshape(x1, (x1.shape[0], x1.shape[1], 1))\n",
        "\n",
        "    std = torch.std(x, axis=1)\n",
        "    std = torch.reshape(std, (std.shape[0], std.shape[1], 1))\n",
        "\n",
        "    op1 = x1@T1.T\n",
        "    op1 = torch.permute(op1, (0, 2, 1))\n",
        "\n",
        "    op2 = std@T1.T\n",
        "    op2 = torch.permute(op2, (0, 2, 1))\n",
        "    \n",
        "    z1 = (x - op1) / (op2)\n",
        "    X1 = (T1 @ self.l1.T)\n",
        "    X1 = X1 * z1 \n",
        "    X1 = X1 + (T1 @ self.B1.T)\n",
        "\n",
        "    #weighing the imporance of temporal and feature normalization\n",
        "    x = self.y1*X1 + self.y2*X2\n",
        "    \n",
        "    return x"
      ]
    },
    {
      "cell_type": "markdown",
      "metadata": {
        "id": "M7Bl1PlKiV5A"
      },
      "source": []
    },
    {
      "cell_type": "code",
      "execution_count": 9,
      "metadata": {
        "id": "EGQzinO66jNp"
      },
      "outputs": [],
      "source": [
        "class BiN_BTABL(nn.Module):\n",
        "  def __init__(self, d2, d1, t1, t2, d3, t3):\n",
        "    super().__init__()\n",
        "\n",
        "    self.BiN = BiN(d2, d1, t1, t2)\n",
        "    self.BL = BL_layer(d2, d1, t1, t2)\n",
        "    self.TABL = TABL_layer(d3, d2, t2, t3)\n",
        "    self.dropout = nn.Dropout(0.1)\n",
        "\n",
        "  def forward(self, x):\n",
        "    #first of all we pass the input to the BiN layer, then we use the B(TABL) architecture\n",
        "    x = self.BiN(x)\n",
        "\n",
        "    self.max_norm_(self.BL.W1.data)\n",
        "    self.max_norm_(self.BL.W2.data)\n",
        "    x = self.BL(x)\n",
        "    x = self.dropout(x)\n",
        "\n",
        "    self.max_norm_(self.TABL.W1.data)\n",
        "    self.max_norm_(self.TABL.W.data)\n",
        "    self.max_norm_(self.TABL.W2.data)\n",
        "    x = self.TABL(x)\n",
        "    x = torch.squeeze(x)\n",
        "    x = torch.softmax(x, 1)\n",
        "\n",
        "\n",
        "    return x\n",
        "\n",
        "  def max_norm_(self, w):\n",
        "    with torch.no_grad():\n",
        "      if (torch.linalg.matrix_norm(w) > 10.0):\n",
        "        norm = torch.linalg.matrix_norm(w)\n",
        "        desired = torch.clamp(norm, min=0.0, max=10.0)\n",
        "        w *= (desired / (1e-8 + norm))\n",
        "\n",
        "\n",
        "class BiN_CTABL(nn.Module):\n",
        "  def __init__(self, d2, d1, t1, t2, d3, t3, d4, t4):\n",
        "    super().__init__()\n",
        "\n",
        "    # TODO: TBRB\n",
        "    #self.BiN = BiN(d2, d1, t1, t2)\n",
        "    self.BiN = BiN(d1, t1)\n",
        "    # TODO: TBRB\n",
        "    self.BL = BL_layer(d2, d1, t1, t2)\n",
        "    self.BL2 = BL_layer(d3, d2, t2, t3)\n",
        "    self.TABL = TABL_layer(d4, d3, t3, t4)\n",
        "    self.dropout = nn.Dropout(0.1)\n",
        "\n",
        "  def forward(self, x):\n",
        "    #first of all we pass the input to the BiN layer, then we use the C(TABL) architecture\n",
        "    x = self.BiN(x)\n",
        "\n",
        "    self.max_norm_(self.BL.W1.data)\n",
        "    self.max_norm_(self.BL.W2.data)\n",
        "    x = self.BL(x)\n",
        "    x = self.dropout(x)\n",
        "    \n",
        "    self.max_norm_(self.BL2.W1.data)\n",
        "    self.max_norm_(self.BL2.W2.data)\n",
        "    x = self.BL2(x)\n",
        "    x = self.dropout(x)\n",
        "\n",
        "    self.max_norm_(self.TABL.W1.data)\n",
        "    self.max_norm_(self.TABL.W.data)\n",
        "    self.max_norm_(self.TABL.W2.data)\n",
        "    x = self.TABL(x)\n",
        "    x = torch.squeeze(x, -1)\n",
        "    x = torch.softmax(x, 1)\n",
        "    \n",
        "    return x\n",
        "\n",
        "  def max_norm_(self, w):\n",
        "    with torch.no_grad():\n",
        "      if (torch.linalg.matrix_norm(w) > 10.0):\n",
        "        norm = torch.linalg.matrix_norm(w)\n",
        "        desired = torch.clamp(norm, min=0.0, max=10.0)\n",
        "        w *= (desired / (1e-8 + norm))   \n",
        "    "
      ]
    },
    {
      "cell_type": "markdown",
      "metadata": {
        "id": "bejZgDmCkkHi"
      },
      "source": [
        "### **Model Training**"
      ]
    },
    {
      "cell_type": "code",
      "execution_count": 10,
      "metadata": {
        "id": "s_u5esKfTT-S"
      },
      "outputs": [],
      "source": [
        "#you can choose between the two architectures\n",
        "\n",
        "#model = BiN_BTABL(120, 40, 10, 5, 3, 1)\n",
        "model = BiN_CTABL(60, 40, 10, 10, 120, 5, 3, 1)\n",
        "\n",
        "model.to(device)\n",
        "\n",
        "criterion = nn.CrossEntropyLoss(weight=weights)\n",
        "optimizer = torch.optim.Adam(model.parameters(), lr, weight_decay=1e-3)\n",
        "\n",
        "\n",
        "def batch_gd(model, criterion, optimizer, epochs):\n",
        "    \n",
        "    train_losses = np.zeros(epochs)\n",
        "    test_losses = np.zeros(epochs)\n",
        "    best_test_loss = np.inf\n",
        "    best_test_epoch = 0\n",
        "    \n",
        "    for it in tqdm(range(epochs)):\n",
        "        \n",
        "        #as written in the paper we change the lr at the 11 and 71 epochs\n",
        "        if (it == 10):\n",
        "              for g in optimizer.param_groups:\n",
        "                g['lr'] = 0.0001\n",
        "\n",
        "        if (it == 70):\n",
        "          for g in optimizer.param_groups:\n",
        "                g['lr'] = 0.00001\n",
        "\n",
        "        model.train()\n",
        "        t0 = datetime.now()\n",
        "        train_loss = []\n",
        "        for inputs, targets in train_loader:\n",
        "\n",
        "            # move data to GPU\n",
        "            inputs, targets = inputs.to(device, dtype=torch.float32), targets.to(device, dtype=torch.int64)\n",
        "\n",
        "            # zero the parameter gradients\n",
        "            optimizer.zero_grad()\n",
        "\n",
        "            # Forward pass\n",
        "            outputs = model(inputs)\n",
        "\n",
        "            #computing the error\n",
        "            loss = criterion(outputs, targets)\n",
        "\n",
        "            # Backward and optimize\n",
        "            loss.backward()\n",
        "            optimizer.step()\n",
        "\n",
        "            train_loss.append(loss.item())\n",
        "            \n",
        "        # Get train loss and test loss\n",
        "        train_loss = np.mean(train_loss)\n",
        "        model.eval()\n",
        "        \n",
        "        test_loss = []\n",
        "        for inputs, targets in val_loader:\n",
        "            inputs, targets = inputs.to(device, dtype=torch.float), targets.to(device, dtype=torch.int64)      \n",
        "            outputs = model(inputs)\n",
        "            loss = criterion(outputs, targets)\n",
        "            test_loss.append(loss.item())\n",
        "        test_loss = np.mean(test_loss)\n",
        "\n",
        "        # Save losses\n",
        "        train_losses[it] = train_loss\n",
        "        test_losses[it] = test_loss\n",
        "        \n",
        "        #We save the best model\n",
        "        if test_loss < best_test_loss:\n",
        "            torch.save(model, SAVE_FILE_PATH)\n",
        "            best_test_loss = test_loss\n",
        "            best_test_epoch = it\n",
        "            print('model saved')\n",
        "\n",
        "        dt = datetime.now() - t0\n",
        "        print(f'Epoch {it+1}/{epochs}, Train Loss: {train_loss:.4f}, \\\n",
        "          Validation Loss: {test_loss:.4f}, Duration: {dt}, Best Val Epoch: {best_test_epoch}')\n",
        "        \n",
        "    #torch.save(model, '/content/drive/MyDrive/Output/best_model_translob_FI')\n",
        "    return train_losses, test_losses"
      ]
    },
    {
      "cell_type": "code",
      "execution_count": 11,
      "metadata": {
        "colab": {
          "base_uri": "https://localhost:8080/",
          "height": 1000
        },
        "id": "x9vq-ZAzTb6K",
        "outputId": "789502ba-c3f3-4b33-d82d-b713ff97eb1e"
      },
      "outputs": [
        {
          "name": "stdout",
          "output_type": "stream",
          "text": [
            "------- List Hyper Parameters -------\n",
            "epochs   ->   100\n",
            "learningRate   ->   0.001\n",
            "horizon    ->     50\n",
            "batch size   ->    256\n",
            "Optimizer   ->    Adam (\n",
            "Parameter Group 0\n",
            "    amsgrad: False\n",
            "    betas: (0.9, 0.999)\n",
            "    capturable: False\n",
            "    differentiable: False\n",
            "    eps: 1e-08\n",
            "    foreach: None\n",
            "    fused: None\n",
            "    lr: 0.001\n",
            "    maximize: False\n",
            "    weight_decay: 0.001\n",
            ")\n"
          ]
        },
        {
          "name": "stderr",
          "output_type": "stream",
          "text": [
            "  1%|          | 1/100 [00:16<26:45, 16.21s/it]"
          ]
        },
        {
          "name": "stdout",
          "output_type": "stream",
          "text": [
            "model saved\n",
            "Epoch 1/100, Train Loss: 0.7549,           Validation Loss: 0.6870, Duration: 0:00:16.214983, Best Val Epoch: 0\n"
          ]
        },
        {
          "name": "stderr",
          "output_type": "stream",
          "text": [
            "  2%|▏         | 2/100 [00:33<27:28, 16.82s/it]"
          ]
        },
        {
          "name": "stdout",
          "output_type": "stream",
          "text": [
            "model saved\n",
            "Epoch 2/100, Train Loss: 0.6924,           Validation Loss: 0.6819, Duration: 0:00:17.243563, Best Val Epoch: 1\n"
          ]
        },
        {
          "name": "stderr",
          "output_type": "stream",
          "text": [
            "  3%|▎         | 3/100 [00:50<27:26, 16.97s/it]"
          ]
        },
        {
          "name": "stdout",
          "output_type": "stream",
          "text": [
            "model saved\n",
            "Epoch 3/100, Train Loss: 0.6886,           Validation Loss: 0.6814, Duration: 0:00:17.147798, Best Val Epoch: 2\n"
          ]
        },
        {
          "name": "stderr",
          "output_type": "stream",
          "text": [
            "  4%|▍         | 4/100 [01:07<27:08, 16.97s/it]"
          ]
        },
        {
          "name": "stdout",
          "output_type": "stream",
          "text": [
            "model saved\n",
            "Epoch 4/100, Train Loss: 0.6879,           Validation Loss: 0.6807, Duration: 0:00:16.962442, Best Val Epoch: 3\n"
          ]
        },
        {
          "name": "stderr",
          "output_type": "stream",
          "text": [
            "  5%|▌         | 5/100 [01:24<26:50, 16.95s/it]"
          ]
        },
        {
          "name": "stdout",
          "output_type": "stream",
          "text": [
            "model saved\n",
            "Epoch 5/100, Train Loss: 0.6874,           Validation Loss: 0.6798, Duration: 0:00:16.920475, Best Val Epoch: 4\n"
          ]
        },
        {
          "name": "stderr",
          "output_type": "stream",
          "text": [
            "  6%|▌         | 6/100 [01:41<26:29, 16.91s/it]"
          ]
        },
        {
          "name": "stdout",
          "output_type": "stream",
          "text": [
            "Epoch 6/100, Train Loss: 0.6869,           Validation Loss: 0.6803, Duration: 0:00:16.834651, Best Val Epoch: 4\n"
          ]
        },
        {
          "name": "stderr",
          "output_type": "stream",
          "text": [
            "  7%|▋         | 7/100 [01:58<26:16, 16.95s/it]"
          ]
        },
        {
          "name": "stdout",
          "output_type": "stream",
          "text": [
            "model saved\n",
            "Epoch 7/100, Train Loss: 0.6871,           Validation Loss: 0.6795, Duration: 0:00:17.022846, Best Val Epoch: 6\n"
          ]
        },
        {
          "name": "stderr",
          "output_type": "stream",
          "text": [
            "  8%|▊         | 8/100 [02:15<26:03, 16.99s/it]"
          ]
        },
        {
          "name": "stdout",
          "output_type": "stream",
          "text": [
            "model saved\n",
            "Epoch 8/100, Train Loss: 0.6871,           Validation Loss: 0.6791, Duration: 0:00:17.089510, Best Val Epoch: 7\n"
          ]
        },
        {
          "name": "stderr",
          "output_type": "stream",
          "text": [
            "  9%|▉         | 9/100 [02:32<25:43, 16.96s/it]"
          ]
        },
        {
          "name": "stdout",
          "output_type": "stream",
          "text": [
            "model saved\n",
            "Epoch 9/100, Train Loss: 0.6870,           Validation Loss: 0.6789, Duration: 0:00:16.885062, Best Val Epoch: 8\n"
          ]
        },
        {
          "name": "stderr",
          "output_type": "stream",
          "text": [
            " 10%|█         | 10/100 [02:49<25:27, 16.97s/it]"
          ]
        },
        {
          "name": "stdout",
          "output_type": "stream",
          "text": [
            "model saved\n",
            "Epoch 10/100, Train Loss: 0.6869,           Validation Loss: 0.6787, Duration: 0:00:16.996599, Best Val Epoch: 9\n"
          ]
        },
        {
          "name": "stderr",
          "output_type": "stream",
          "text": [
            " 11%|█         | 11/100 [03:06<25:12, 16.99s/it]"
          ]
        },
        {
          "name": "stdout",
          "output_type": "stream",
          "text": [
            "model saved\n",
            "Epoch 11/100, Train Loss: 0.6859,           Validation Loss: 0.6787, Duration: 0:00:17.030236, Best Val Epoch: 10\n"
          ]
        },
        {
          "name": "stderr",
          "output_type": "stream",
          "text": [
            " 12%|█▏        | 12/100 [03:23<24:54, 16.98s/it]"
          ]
        },
        {
          "name": "stdout",
          "output_type": "stream",
          "text": [
            "Epoch 12/100, Train Loss: 0.6862,           Validation Loss: 0.6790, Duration: 0:00:16.948154, Best Val Epoch: 10\n"
          ]
        },
        {
          "name": "stderr",
          "output_type": "stream",
          "text": [
            " 13%|█▎        | 13/100 [03:40<24:40, 17.02s/it]"
          ]
        },
        {
          "name": "stdout",
          "output_type": "stream",
          "text": [
            "model saved\n",
            "Epoch 13/100, Train Loss: 0.6859,           Validation Loss: 0.6785, Duration: 0:00:17.101810, Best Val Epoch: 12\n"
          ]
        },
        {
          "name": "stderr",
          "output_type": "stream",
          "text": [
            " 14%|█▍        | 14/100 [03:57<24:33, 17.13s/it]"
          ]
        },
        {
          "name": "stdout",
          "output_type": "stream",
          "text": [
            "Epoch 14/100, Train Loss: 0.6860,           Validation Loss: 0.6786, Duration: 0:00:17.403760, Best Val Epoch: 12\n"
          ]
        },
        {
          "name": "stderr",
          "output_type": "stream",
          "text": [
            " 15%|█▌        | 15/100 [04:15<24:22, 17.20s/it]"
          ]
        },
        {
          "name": "stdout",
          "output_type": "stream",
          "text": [
            "model saved\n",
            "Epoch 15/100, Train Loss: 0.6860,           Validation Loss: 0.6784, Duration: 0:00:17.369320, Best Val Epoch: 14\n"
          ]
        },
        {
          "name": "stderr",
          "output_type": "stream",
          "text": [
            " 16%|█▌        | 16/100 [04:32<24:07, 17.23s/it]"
          ]
        },
        {
          "name": "stdout",
          "output_type": "stream",
          "text": [
            "model saved\n",
            "Epoch 16/100, Train Loss: 0.6859,           Validation Loss: 0.6784, Duration: 0:00:17.288018, Best Val Epoch: 15\n"
          ]
        },
        {
          "name": "stderr",
          "output_type": "stream",
          "text": [
            " 17%|█▋        | 17/100 [04:49<23:48, 17.21s/it]"
          ]
        },
        {
          "name": "stdout",
          "output_type": "stream",
          "text": [
            "Epoch 17/100, Train Loss: 0.6861,           Validation Loss: 0.6786, Duration: 0:00:17.175740, Best Val Epoch: 15\n"
          ]
        },
        {
          "name": "stderr",
          "output_type": "stream",
          "text": [
            " 18%|█▊        | 18/100 [05:06<23:30, 17.20s/it]"
          ]
        },
        {
          "name": "stdout",
          "output_type": "stream",
          "text": [
            "Epoch 18/100, Train Loss: 0.6858,           Validation Loss: 0.6786, Duration: 0:00:17.158347, Best Val Epoch: 15\n"
          ]
        },
        {
          "name": "stderr",
          "output_type": "stream",
          "text": [
            " 19%|█▉        | 19/100 [05:23<22:52, 16.95s/it]"
          ]
        },
        {
          "name": "stdout",
          "output_type": "stream",
          "text": [
            "Epoch 19/100, Train Loss: 0.6861,           Validation Loss: 0.6786, Duration: 0:00:16.371264, Best Val Epoch: 15\n"
          ]
        },
        {
          "name": "stderr",
          "output_type": "stream",
          "text": [
            " 20%|██        | 20/100 [05:40<22:33, 16.92s/it]"
          ]
        },
        {
          "name": "stdout",
          "output_type": "stream",
          "text": [
            "model saved\n",
            "Epoch 20/100, Train Loss: 0.6858,           Validation Loss: 0.6784, Duration: 0:00:16.839568, Best Val Epoch: 19\n"
          ]
        },
        {
          "name": "stderr",
          "output_type": "stream",
          "text": [
            " 21%|██        | 21/100 [05:57<22:18, 16.94s/it]"
          ]
        },
        {
          "name": "stdout",
          "output_type": "stream",
          "text": [
            "Epoch 21/100, Train Loss: 0.6858,           Validation Loss: 0.6785, Duration: 0:00:16.995023, Best Val Epoch: 19\n"
          ]
        },
        {
          "name": "stderr",
          "output_type": "stream",
          "text": [
            " 22%|██▏       | 22/100 [06:13<21:53, 16.84s/it]"
          ]
        },
        {
          "name": "stdout",
          "output_type": "stream",
          "text": [
            "Epoch 22/100, Train Loss: 0.6861,           Validation Loss: 0.6790, Duration: 0:00:16.619290, Best Val Epoch: 19\n"
          ]
        },
        {
          "name": "stderr",
          "output_type": "stream",
          "text": [
            " 23%|██▎       | 23/100 [06:30<21:28, 16.74s/it]"
          ]
        },
        {
          "name": "stdout",
          "output_type": "stream",
          "text": [
            "Epoch 23/100, Train Loss: 0.6857,           Validation Loss: 0.6784, Duration: 0:00:16.487008, Best Val Epoch: 19\n"
          ]
        },
        {
          "name": "stderr",
          "output_type": "stream",
          "text": [
            " 24%|██▍       | 24/100 [06:46<21:09, 16.71s/it]"
          ]
        },
        {
          "name": "stdout",
          "output_type": "stream",
          "text": [
            "Epoch 24/100, Train Loss: 0.6856,           Validation Loss: 0.6790, Duration: 0:00:16.636555, Best Val Epoch: 19\n"
          ]
        },
        {
          "name": "stderr",
          "output_type": "stream",
          "text": [
            " 25%|██▌       | 25/100 [07:03<20:49, 16.67s/it]"
          ]
        },
        {
          "name": "stdout",
          "output_type": "stream",
          "text": [
            "Epoch 25/100, Train Loss: 0.6857,           Validation Loss: 0.6785, Duration: 0:00:16.569015, Best Val Epoch: 19\n"
          ]
        },
        {
          "name": "stderr",
          "output_type": "stream",
          "text": [
            " 26%|██▌       | 26/100 [07:19<20:31, 16.64s/it]"
          ]
        },
        {
          "name": "stdout",
          "output_type": "stream",
          "text": [
            "Epoch 26/100, Train Loss: 0.6858,           Validation Loss: 0.6786, Duration: 0:00:16.567368, Best Val Epoch: 19\n"
          ]
        },
        {
          "name": "stderr",
          "output_type": "stream",
          "text": [
            " 27%|██▋       | 27/100 [07:36<20:12, 16.60s/it]"
          ]
        },
        {
          "name": "stdout",
          "output_type": "stream",
          "text": [
            "Epoch 27/100, Train Loss: 0.6855,           Validation Loss: 0.6786, Duration: 0:00:16.525538, Best Val Epoch: 19\n"
          ]
        },
        {
          "name": "stderr",
          "output_type": "stream",
          "text": [
            " 28%|██▊       | 28/100 [07:53<19:56, 16.62s/it]"
          ]
        },
        {
          "name": "stdout",
          "output_type": "stream",
          "text": [
            "Epoch 28/100, Train Loss: 0.6858,           Validation Loss: 0.6784, Duration: 0:00:16.663558, Best Val Epoch: 19\n"
          ]
        },
        {
          "name": "stderr",
          "output_type": "stream",
          "text": [
            " 29%|██▉       | 29/100 [08:09<19:37, 16.59s/it]"
          ]
        },
        {
          "name": "stdout",
          "output_type": "stream",
          "text": [
            "model saved\n",
            "Epoch 29/100, Train Loss: 0.6856,           Validation Loss: 0.6783, Duration: 0:00:16.516942, Best Val Epoch: 28\n"
          ]
        },
        {
          "name": "stderr",
          "output_type": "stream",
          "text": [
            " 30%|███       | 30/100 [08:26<19:23, 16.62s/it]"
          ]
        },
        {
          "name": "stdout",
          "output_type": "stream",
          "text": [
            "Epoch 30/100, Train Loss: 0.6857,           Validation Loss: 0.6785, Duration: 0:00:16.680185, Best Val Epoch: 28\n"
          ]
        },
        {
          "name": "stderr",
          "output_type": "stream",
          "text": [
            " 31%|███       | 31/100 [08:42<19:07, 16.62s/it]"
          ]
        },
        {
          "name": "stdout",
          "output_type": "stream",
          "text": [
            "Epoch 31/100, Train Loss: 0.6859,           Validation Loss: 0.6789, Duration: 0:00:16.640989, Best Val Epoch: 28\n"
          ]
        },
        {
          "name": "stderr",
          "output_type": "stream",
          "text": [
            " 32%|███▏      | 32/100 [08:59<18:50, 16.62s/it]"
          ]
        },
        {
          "name": "stdout",
          "output_type": "stream",
          "text": [
            "model saved\n",
            "Epoch 32/100, Train Loss: 0.6858,           Validation Loss: 0.6783, Duration: 0:00:16.613249, Best Val Epoch: 31\n"
          ]
        },
        {
          "name": "stderr",
          "output_type": "stream",
          "text": [
            " 33%|███▎      | 33/100 [09:16<18:37, 16.67s/it]"
          ]
        },
        {
          "name": "stdout",
          "output_type": "stream",
          "text": [
            "Epoch 33/100, Train Loss: 0.6858,           Validation Loss: 0.6786, Duration: 0:00:16.796773, Best Val Epoch: 31\n"
          ]
        },
        {
          "name": "stderr",
          "output_type": "stream",
          "text": [
            " 34%|███▍      | 34/100 [09:33<18:20, 16.68s/it]"
          ]
        },
        {
          "name": "stdout",
          "output_type": "stream",
          "text": [
            "Epoch 34/100, Train Loss: 0.6857,           Validation Loss: 0.6783, Duration: 0:00:16.680279, Best Val Epoch: 31\n"
          ]
        },
        {
          "name": "stderr",
          "output_type": "stream",
          "text": [
            " 35%|███▌      | 35/100 [09:49<18:04, 16.68s/it]"
          ]
        },
        {
          "name": "stdout",
          "output_type": "stream",
          "text": [
            "Epoch 35/100, Train Loss: 0.6860,           Validation Loss: 0.6784, Duration: 0:00:16.692984, Best Val Epoch: 31\n"
          ]
        },
        {
          "name": "stderr",
          "output_type": "stream",
          "text": [
            " 36%|███▌      | 36/100 [10:06<17:49, 16.71s/it]"
          ]
        },
        {
          "name": "stdout",
          "output_type": "stream",
          "text": [
            "model saved\n",
            "Epoch 36/100, Train Loss: 0.6857,           Validation Loss: 0.6782, Duration: 0:00:16.777182, Best Val Epoch: 35\n"
          ]
        },
        {
          "name": "stderr",
          "output_type": "stream",
          "text": [
            " 37%|███▋      | 37/100 [10:23<17:33, 16.72s/it]"
          ]
        },
        {
          "name": "stdout",
          "output_type": "stream",
          "text": [
            "Epoch 37/100, Train Loss: 0.6858,           Validation Loss: 0.6788, Duration: 0:00:16.744282, Best Val Epoch: 35\n"
          ]
        },
        {
          "name": "stderr",
          "output_type": "stream",
          "text": [
            " 38%|███▊      | 38/100 [10:39<17:16, 16.72s/it]"
          ]
        },
        {
          "name": "stdout",
          "output_type": "stream",
          "text": [
            "Epoch 38/100, Train Loss: 0.6855,           Validation Loss: 0.6783, Duration: 0:00:16.722780, Best Val Epoch: 35\n"
          ]
        },
        {
          "name": "stderr",
          "output_type": "stream",
          "text": [
            " 39%|███▉      | 39/100 [10:56<16:59, 16.71s/it]"
          ]
        },
        {
          "name": "stdout",
          "output_type": "stream",
          "text": [
            "Epoch 39/100, Train Loss: 0.6858,           Validation Loss: 0.6783, Duration: 0:00:16.666366, Best Val Epoch: 35\n"
          ]
        },
        {
          "name": "stderr",
          "output_type": "stream",
          "text": [
            " 40%|████      | 40/100 [11:13<16:41, 16.70s/it]"
          ]
        },
        {
          "name": "stdout",
          "output_type": "stream",
          "text": [
            "Epoch 40/100, Train Loss: 0.6856,           Validation Loss: 0.6785, Duration: 0:00:16.675300, Best Val Epoch: 35\n"
          ]
        },
        {
          "name": "stderr",
          "output_type": "stream",
          "text": [
            " 41%|████      | 41/100 [11:30<16:27, 16.73s/it]"
          ]
        },
        {
          "name": "stdout",
          "output_type": "stream",
          "text": [
            "Epoch 41/100, Train Loss: 0.6859,           Validation Loss: 0.6785, Duration: 0:00:16.819425, Best Val Epoch: 35\n"
          ]
        },
        {
          "name": "stderr",
          "output_type": "stream",
          "text": [
            " 42%|████▏     | 42/100 [11:46<16:11, 16.76s/it]"
          ]
        },
        {
          "name": "stdout",
          "output_type": "stream",
          "text": [
            "Epoch 42/100, Train Loss: 0.6855,           Validation Loss: 0.6783, Duration: 0:00:16.804134, Best Val Epoch: 35\n"
          ]
        },
        {
          "name": "stderr",
          "output_type": "stream",
          "text": [
            " 43%|████▎     | 43/100 [12:03<15:53, 16.74s/it]"
          ]
        },
        {
          "name": "stdout",
          "output_type": "stream",
          "text": [
            "Epoch 43/100, Train Loss: 0.6858,           Validation Loss: 0.6783, Duration: 0:00:16.691950, Best Val Epoch: 35\n"
          ]
        },
        {
          "name": "stderr",
          "output_type": "stream",
          "text": [
            " 44%|████▍     | 44/100 [12:20<15:36, 16.73s/it]"
          ]
        },
        {
          "name": "stdout",
          "output_type": "stream",
          "text": [
            "Epoch 44/100, Train Loss: 0.6858,           Validation Loss: 0.6784, Duration: 0:00:16.715928, Best Val Epoch: 35\n"
          ]
        },
        {
          "name": "stderr",
          "output_type": "stream",
          "text": [
            " 45%|████▌     | 45/100 [12:37<15:20, 16.73s/it]"
          ]
        },
        {
          "name": "stdout",
          "output_type": "stream",
          "text": [
            "Epoch 45/100, Train Loss: 0.6855,           Validation Loss: 0.6787, Duration: 0:00:16.721434, Best Val Epoch: 35\n"
          ]
        },
        {
          "name": "stderr",
          "output_type": "stream",
          "text": [
            " 46%|████▌     | 46/100 [12:53<15:02, 16.71s/it]"
          ]
        },
        {
          "name": "stdout",
          "output_type": "stream",
          "text": [
            "Epoch 46/100, Train Loss: 0.6857,           Validation Loss: 0.6784, Duration: 0:00:16.668182, Best Val Epoch: 35\n"
          ]
        },
        {
          "name": "stderr",
          "output_type": "stream",
          "text": [
            " 47%|████▋     | 47/100 [13:10<14:45, 16.71s/it]"
          ]
        },
        {
          "name": "stdout",
          "output_type": "stream",
          "text": [
            "Epoch 47/100, Train Loss: 0.6856,           Validation Loss: 0.6785, Duration: 0:00:16.713495, Best Val Epoch: 35\n"
          ]
        },
        {
          "name": "stderr",
          "output_type": "stream",
          "text": [
            " 48%|████▊     | 48/100 [13:27<14:28, 16.71s/it]"
          ]
        },
        {
          "name": "stdout",
          "output_type": "stream",
          "text": [
            "Epoch 48/100, Train Loss: 0.6857,           Validation Loss: 0.6792, Duration: 0:00:16.702114, Best Val Epoch: 35\n"
          ]
        },
        {
          "name": "stderr",
          "output_type": "stream",
          "text": [
            " 49%|████▉     | 49/100 [13:43<14:12, 16.72s/it]"
          ]
        },
        {
          "name": "stdout",
          "output_type": "stream",
          "text": [
            "Epoch 49/100, Train Loss: 0.6858,           Validation Loss: 0.6786, Duration: 0:00:16.755388, Best Val Epoch: 35\n"
          ]
        },
        {
          "name": "stderr",
          "output_type": "stream",
          "text": [
            " 50%|█████     | 50/100 [14:00<13:57, 16.75s/it]"
          ]
        },
        {
          "name": "stdout",
          "output_type": "stream",
          "text": [
            "Epoch 50/100, Train Loss: 0.6857,           Validation Loss: 0.6787, Duration: 0:00:16.799245, Best Val Epoch: 35\n"
          ]
        },
        {
          "name": "stderr",
          "output_type": "stream",
          "text": [
            " 51%|█████     | 51/100 [14:17<13:41, 16.76s/it]"
          ]
        },
        {
          "name": "stdout",
          "output_type": "stream",
          "text": [
            "Epoch 51/100, Train Loss: 0.6856,           Validation Loss: 0.6791, Duration: 0:00:16.786717, Best Val Epoch: 35\n"
          ]
        },
        {
          "name": "stderr",
          "output_type": "stream",
          "text": [
            " 52%|█████▏    | 52/100 [14:34<13:26, 16.80s/it]"
          ]
        },
        {
          "name": "stdout",
          "output_type": "stream",
          "text": [
            "model saved\n",
            "Epoch 52/100, Train Loss: 0.6858,           Validation Loss: 0.6782, Duration: 0:00:16.909774, Best Val Epoch: 51\n"
          ]
        },
        {
          "name": "stderr",
          "output_type": "stream",
          "text": [
            " 53%|█████▎    | 53/100 [14:51<13:09, 16.81s/it]"
          ]
        },
        {
          "name": "stdout",
          "output_type": "stream",
          "text": [
            "Epoch 53/100, Train Loss: 0.6858,           Validation Loss: 0.6784, Duration: 0:00:16.812546, Best Val Epoch: 51\n"
          ]
        },
        {
          "name": "stderr",
          "output_type": "stream",
          "text": [
            " 54%|█████▍    | 54/100 [15:08<12:52, 16.80s/it]"
          ]
        },
        {
          "name": "stdout",
          "output_type": "stream",
          "text": [
            "Epoch 54/100, Train Loss: 0.6855,           Validation Loss: 0.6786, Duration: 0:00:16.778376, Best Val Epoch: 51\n"
          ]
        },
        {
          "name": "stderr",
          "output_type": "stream",
          "text": [
            " 55%|█████▌    | 55/100 [15:24<12:37, 16.83s/it]"
          ]
        },
        {
          "name": "stdout",
          "output_type": "stream",
          "text": [
            "Epoch 55/100, Train Loss: 0.6856,           Validation Loss: 0.6785, Duration: 0:00:16.896577, Best Val Epoch: 51\n"
          ]
        },
        {
          "name": "stderr",
          "output_type": "stream",
          "text": [
            " 56%|█████▌    | 56/100 [15:41<12:19, 16.80s/it]"
          ]
        },
        {
          "name": "stdout",
          "output_type": "stream",
          "text": [
            "Epoch 56/100, Train Loss: 0.6857,           Validation Loss: 0.6787, Duration: 0:00:16.746760, Best Val Epoch: 51\n"
          ]
        },
        {
          "name": "stderr",
          "output_type": "stream",
          "text": [
            " 57%|█████▋    | 57/100 [15:58<12:03, 16.83s/it]"
          ]
        },
        {
          "name": "stdout",
          "output_type": "stream",
          "text": [
            "Epoch 57/100, Train Loss: 0.6856,           Validation Loss: 0.6785, Duration: 0:00:16.890088, Best Val Epoch: 51\n"
          ]
        },
        {
          "name": "stderr",
          "output_type": "stream",
          "text": [
            " 58%|█████▊    | 58/100 [16:15<11:45, 16.80s/it]"
          ]
        },
        {
          "name": "stdout",
          "output_type": "stream",
          "text": [
            "Epoch 58/100, Train Loss: 0.6857,           Validation Loss: 0.6784, Duration: 0:00:16.721280, Best Val Epoch: 51\n"
          ]
        },
        {
          "name": "stderr",
          "output_type": "stream",
          "text": [
            " 59%|█████▉    | 59/100 [16:31<11:27, 16.78s/it]"
          ]
        },
        {
          "name": "stdout",
          "output_type": "stream",
          "text": [
            "Epoch 59/100, Train Loss: 0.6855,           Validation Loss: 0.6785, Duration: 0:00:16.735763, Best Val Epoch: 51\n"
          ]
        },
        {
          "name": "stderr",
          "output_type": "stream",
          "text": [
            " 60%|██████    | 60/100 [16:48<11:11, 16.79s/it]"
          ]
        },
        {
          "name": "stdout",
          "output_type": "stream",
          "text": [
            "Epoch 60/100, Train Loss: 0.6858,           Validation Loss: 0.6783, Duration: 0:00:16.802062, Best Val Epoch: 51\n"
          ]
        },
        {
          "name": "stderr",
          "output_type": "stream",
          "text": [
            " 61%|██████    | 61/100 [17:05<10:53, 16.77s/it]"
          ]
        },
        {
          "name": "stdout",
          "output_type": "stream",
          "text": [
            "Epoch 61/100, Train Loss: 0.6857,           Validation Loss: 0.6787, Duration: 0:00:16.715275, Best Val Epoch: 51\n"
          ]
        },
        {
          "name": "stderr",
          "output_type": "stream",
          "text": [
            " 62%|██████▏   | 62/100 [17:22<10:37, 16.78s/it]"
          ]
        },
        {
          "name": "stdout",
          "output_type": "stream",
          "text": [
            "Epoch 62/100, Train Loss: 0.6857,           Validation Loss: 0.6788, Duration: 0:00:16.807790, Best Val Epoch: 51\n"
          ]
        },
        {
          "name": "stderr",
          "output_type": "stream",
          "text": [
            " 63%|██████▎   | 63/100 [17:39<10:27, 16.95s/it]"
          ]
        },
        {
          "name": "stdout",
          "output_type": "stream",
          "text": [
            "Epoch 63/100, Train Loss: 0.6858,           Validation Loss: 0.6783, Duration: 0:00:17.342345, Best Val Epoch: 51\n"
          ]
        },
        {
          "name": "stderr",
          "output_type": "stream",
          "text": [
            " 64%|██████▍   | 64/100 [17:57<10:15, 17.09s/it]"
          ]
        },
        {
          "name": "stdout",
          "output_type": "stream",
          "text": [
            "Epoch 64/100, Train Loss: 0.6856,           Validation Loss: 0.6784, Duration: 0:00:17.424903, Best Val Epoch: 51\n"
          ]
        },
        {
          "name": "stderr",
          "output_type": "stream",
          "text": [
            " 65%|██████▌   | 65/100 [18:14<10:01, 17.19s/it]"
          ]
        },
        {
          "name": "stdout",
          "output_type": "stream",
          "text": [
            "Epoch 65/100, Train Loss: 0.6854,           Validation Loss: 0.6783, Duration: 0:00:17.422733, Best Val Epoch: 51\n"
          ]
        },
        {
          "name": "stderr",
          "output_type": "stream",
          "text": [
            " 66%|██████▌   | 66/100 [18:31<09:45, 17.22s/it]"
          ]
        },
        {
          "name": "stdout",
          "output_type": "stream",
          "text": [
            "Epoch 66/100, Train Loss: 0.6857,           Validation Loss: 0.6783, Duration: 0:00:17.294073, Best Val Epoch: 51\n"
          ]
        },
        {
          "name": "stderr",
          "output_type": "stream",
          "text": [
            " 67%|██████▋   | 67/100 [18:48<09:21, 17.01s/it]"
          ]
        },
        {
          "name": "stdout",
          "output_type": "stream",
          "text": [
            "Epoch 67/100, Train Loss: 0.6854,           Validation Loss: 0.6784, Duration: 0:00:16.516753, Best Val Epoch: 51\n"
          ]
        },
        {
          "name": "stderr",
          "output_type": "stream",
          "text": [
            " 68%|██████▊   | 68/100 [19:04<08:54, 16.71s/it]"
          ]
        },
        {
          "name": "stdout",
          "output_type": "stream",
          "text": [
            "Epoch 68/100, Train Loss: 0.6856,           Validation Loss: 0.6784, Duration: 0:00:15.995145, Best Val Epoch: 51\n"
          ]
        },
        {
          "name": "stderr",
          "output_type": "stream",
          "text": [
            " 69%|██████▉   | 69/100 [19:20<08:30, 16.46s/it]"
          ]
        },
        {
          "name": "stdout",
          "output_type": "stream",
          "text": [
            "Epoch 69/100, Train Loss: 0.6858,           Validation Loss: 0.6782, Duration: 0:00:15.896316, Best Val Epoch: 51\n"
          ]
        },
        {
          "name": "stderr",
          "output_type": "stream",
          "text": [
            " 70%|███████   | 70/100 [19:35<08:07, 16.25s/it]"
          ]
        },
        {
          "name": "stdout",
          "output_type": "stream",
          "text": [
            "Epoch 70/100, Train Loss: 0.6857,           Validation Loss: 0.6784, Duration: 0:00:15.750214, Best Val Epoch: 51\n"
          ]
        },
        {
          "name": "stderr",
          "output_type": "stream",
          "text": [
            " 71%|███████   | 71/100 [19:51<07:48, 16.17s/it]"
          ]
        },
        {
          "name": "stdout",
          "output_type": "stream",
          "text": [
            "Epoch 71/100, Train Loss: 0.6854,           Validation Loss: 0.6784, Duration: 0:00:15.982262, Best Val Epoch: 51\n"
          ]
        },
        {
          "name": "stderr",
          "output_type": "stream",
          "text": [
            " 72%|███████▏  | 72/100 [20:07<07:30, 16.09s/it]"
          ]
        },
        {
          "name": "stdout",
          "output_type": "stream",
          "text": [
            "Epoch 72/100, Train Loss: 0.6854,           Validation Loss: 0.6783, Duration: 0:00:15.904824, Best Val Epoch: 51\n"
          ]
        },
        {
          "name": "stderr",
          "output_type": "stream",
          "text": [
            " 73%|███████▎  | 73/100 [20:23<07:12, 16.01s/it]"
          ]
        },
        {
          "name": "stdout",
          "output_type": "stream",
          "text": [
            "Epoch 73/100, Train Loss: 0.6854,           Validation Loss: 0.6784, Duration: 0:00:15.816467, Best Val Epoch: 51\n"
          ]
        },
        {
          "name": "stderr",
          "output_type": "stream",
          "text": [
            " 74%|███████▍  | 74/100 [20:39<06:54, 15.95s/it]"
          ]
        },
        {
          "name": "stdout",
          "output_type": "stream",
          "text": [
            "Epoch 74/100, Train Loss: 0.6856,           Validation Loss: 0.6784, Duration: 0:00:15.802983, Best Val Epoch: 51\n"
          ]
        },
        {
          "name": "stderr",
          "output_type": "stream",
          "text": [
            " 75%|███████▌  | 75/100 [20:55<06:37, 15.91s/it]"
          ]
        },
        {
          "name": "stdout",
          "output_type": "stream",
          "text": [
            "Epoch 75/100, Train Loss: 0.6856,           Validation Loss: 0.6784, Duration: 0:00:15.822269, Best Val Epoch: 51\n"
          ]
        },
        {
          "name": "stderr",
          "output_type": "stream",
          "text": [
            " 76%|███████▌  | 76/100 [21:11<06:22, 15.93s/it]"
          ]
        },
        {
          "name": "stdout",
          "output_type": "stream",
          "text": [
            "Epoch 76/100, Train Loss: 0.6855,           Validation Loss: 0.6784, Duration: 0:00:15.976108, Best Val Epoch: 51\n"
          ]
        },
        {
          "name": "stderr",
          "output_type": "stream",
          "text": [
            " 77%|███████▋  | 77/100 [21:27<06:06, 15.92s/it]"
          ]
        },
        {
          "name": "stdout",
          "output_type": "stream",
          "text": [
            "Epoch 77/100, Train Loss: 0.6853,           Validation Loss: 0.6785, Duration: 0:00:15.892606, Best Val Epoch: 51\n"
          ]
        },
        {
          "name": "stderr",
          "output_type": "stream",
          "text": [
            " 78%|███████▊  | 78/100 [21:42<05:49, 15.87s/it]"
          ]
        },
        {
          "name": "stdout",
          "output_type": "stream",
          "text": [
            "Epoch 78/100, Train Loss: 0.6855,           Validation Loss: 0.6784, Duration: 0:00:15.767708, Best Val Epoch: 51\n"
          ]
        },
        {
          "name": "stderr",
          "output_type": "stream",
          "text": [
            " 79%|███████▉  | 79/100 [21:58<05:33, 15.88s/it]"
          ]
        },
        {
          "name": "stdout",
          "output_type": "stream",
          "text": [
            "Epoch 79/100, Train Loss: 0.6855,           Validation Loss: 0.6784, Duration: 0:00:15.886859, Best Val Epoch: 51\n"
          ]
        },
        {
          "name": "stderr",
          "output_type": "stream",
          "text": [
            " 80%|████████  | 80/100 [22:14<05:17, 15.86s/it]"
          ]
        },
        {
          "name": "stdout",
          "output_type": "stream",
          "text": [
            "Epoch 80/100, Train Loss: 0.6853,           Validation Loss: 0.6783, Duration: 0:00:15.806284, Best Val Epoch: 51\n"
          ]
        },
        {
          "name": "stderr",
          "output_type": "stream",
          "text": [
            " 81%|████████  | 81/100 [22:30<05:01, 15.84s/it]"
          ]
        },
        {
          "name": "stdout",
          "output_type": "stream",
          "text": [
            "Epoch 81/100, Train Loss: 0.6855,           Validation Loss: 0.6785, Duration: 0:00:15.812513, Best Val Epoch: 51\n"
          ]
        },
        {
          "name": "stderr",
          "output_type": "stream",
          "text": [
            " 82%|████████▏ | 82/100 [22:46<04:45, 15.86s/it]"
          ]
        },
        {
          "name": "stdout",
          "output_type": "stream",
          "text": [
            "Epoch 82/100, Train Loss: 0.6853,           Validation Loss: 0.6783, Duration: 0:00:15.891514, Best Val Epoch: 51\n"
          ]
        },
        {
          "name": "stderr",
          "output_type": "stream",
          "text": [
            " 83%|████████▎ | 83/100 [23:02<04:28, 15.81s/it]"
          ]
        },
        {
          "name": "stdout",
          "output_type": "stream",
          "text": [
            "Epoch 83/100, Train Loss: 0.6854,           Validation Loss: 0.6783, Duration: 0:00:15.683786, Best Val Epoch: 51\n"
          ]
        },
        {
          "name": "stderr",
          "output_type": "stream",
          "text": [
            " 84%|████████▍ | 84/100 [23:17<04:13, 15.83s/it]"
          ]
        },
        {
          "name": "stdout",
          "output_type": "stream",
          "text": [
            "Epoch 84/100, Train Loss: 0.6855,           Validation Loss: 0.6784, Duration: 0:00:15.890458, Best Val Epoch: 51\n"
          ]
        },
        {
          "name": "stderr",
          "output_type": "stream",
          "text": [
            " 85%|████████▌ | 85/100 [23:33<03:57, 15.80s/it]"
          ]
        },
        {
          "name": "stdout",
          "output_type": "stream",
          "text": [
            "Epoch 85/100, Train Loss: 0.6855,           Validation Loss: 0.6783, Duration: 0:00:15.740107, Best Val Epoch: 51\n"
          ]
        },
        {
          "name": "stderr",
          "output_type": "stream",
          "text": [
            " 86%|████████▌ | 86/100 [23:49<03:41, 15.79s/it]"
          ]
        },
        {
          "name": "stdout",
          "output_type": "stream",
          "text": [
            "Epoch 86/100, Train Loss: 0.6853,           Validation Loss: 0.6784, Duration: 0:00:15.744557, Best Val Epoch: 51\n"
          ]
        },
        {
          "name": "stderr",
          "output_type": "stream",
          "text": [
            " 87%|████████▋ | 87/100 [24:05<03:25, 15.79s/it]"
          ]
        },
        {
          "name": "stdout",
          "output_type": "stream",
          "text": [
            "Epoch 87/100, Train Loss: 0.6855,           Validation Loss: 0.6785, Duration: 0:00:15.787432, Best Val Epoch: 51\n"
          ]
        },
        {
          "name": "stderr",
          "output_type": "stream",
          "text": [
            " 88%|████████▊ | 88/100 [24:20<03:09, 15.78s/it]"
          ]
        },
        {
          "name": "stdout",
          "output_type": "stream",
          "text": [
            "Epoch 88/100, Train Loss: 0.6853,           Validation Loss: 0.6785, Duration: 0:00:15.770199, Best Val Epoch: 51\n"
          ]
        },
        {
          "name": "stderr",
          "output_type": "stream",
          "text": [
            " 89%|████████▉ | 89/100 [24:36<02:53, 15.76s/it]"
          ]
        },
        {
          "name": "stdout",
          "output_type": "stream",
          "text": [
            "Epoch 89/100, Train Loss: 0.6855,           Validation Loss: 0.6784, Duration: 0:00:15.701758, Best Val Epoch: 51\n"
          ]
        },
        {
          "name": "stderr",
          "output_type": "stream",
          "text": [
            " 90%|█████████ | 90/100 [24:52<02:37, 15.79s/it]"
          ]
        },
        {
          "name": "stdout",
          "output_type": "stream",
          "text": [
            "Epoch 90/100, Train Loss: 0.6854,           Validation Loss: 0.6784, Duration: 0:00:15.870043, Best Val Epoch: 51\n"
          ]
        },
        {
          "name": "stderr",
          "output_type": "stream",
          "text": [
            " 91%|█████████ | 91/100 [25:08<02:21, 15.77s/it]"
          ]
        },
        {
          "name": "stdout",
          "output_type": "stream",
          "text": [
            "Epoch 91/100, Train Loss: 0.6856,           Validation Loss: 0.6785, Duration: 0:00:15.708145, Best Val Epoch: 51\n"
          ]
        },
        {
          "name": "stderr",
          "output_type": "stream",
          "text": [
            " 92%|█████████▏| 92/100 [25:24<02:06, 15.77s/it]"
          ]
        },
        {
          "name": "stdout",
          "output_type": "stream",
          "text": [
            "Epoch 92/100, Train Loss: 0.6855,           Validation Loss: 0.6784, Duration: 0:00:15.792873, Best Val Epoch: 51\n"
          ]
        },
        {
          "name": "stderr",
          "output_type": "stream",
          "text": [
            " 93%|█████████▎| 93/100 [25:39<01:50, 15.77s/it]"
          ]
        },
        {
          "name": "stdout",
          "output_type": "stream",
          "text": [
            "Epoch 93/100, Train Loss: 0.6854,           Validation Loss: 0.6783, Duration: 0:00:15.760068, Best Val Epoch: 51\n"
          ]
        },
        {
          "name": "stderr",
          "output_type": "stream",
          "text": [
            " 94%|█████████▍| 94/100 [25:55<01:34, 15.75s/it]"
          ]
        },
        {
          "name": "stdout",
          "output_type": "stream",
          "text": [
            "Epoch 94/100, Train Loss: 0.6856,           Validation Loss: 0.6784, Duration: 0:00:15.696846, Best Val Epoch: 51\n"
          ]
        },
        {
          "name": "stderr",
          "output_type": "stream",
          "text": [
            " 95%|█████████▌| 95/100 [26:11<01:18, 15.75s/it]"
          ]
        },
        {
          "name": "stdout",
          "output_type": "stream",
          "text": [
            "Epoch 95/100, Train Loss: 0.6854,           Validation Loss: 0.6784, Duration: 0:00:15.736331, Best Val Epoch: 51\n"
          ]
        },
        {
          "name": "stderr",
          "output_type": "stream",
          "text": [
            " 96%|█████████▌| 96/100 [26:26<01:02, 15.74s/it]"
          ]
        },
        {
          "name": "stdout",
          "output_type": "stream",
          "text": [
            "Epoch 96/100, Train Loss: 0.6854,           Validation Loss: 0.6784, Duration: 0:00:15.712768, Best Val Epoch: 51\n"
          ]
        },
        {
          "name": "stderr",
          "output_type": "stream",
          "text": [
            " 97%|█████████▋| 97/100 [26:42<00:47, 15.76s/it]"
          ]
        },
        {
          "name": "stdout",
          "output_type": "stream",
          "text": [
            "Epoch 97/100, Train Loss: 0.6856,           Validation Loss: 0.6783, Duration: 0:00:15.805472, Best Val Epoch: 51\n"
          ]
        },
        {
          "name": "stderr",
          "output_type": "stream",
          "text": [
            " 98%|█████████▊| 98/100 [26:58<00:31, 15.77s/it]"
          ]
        },
        {
          "name": "stdout",
          "output_type": "stream",
          "text": [
            "Epoch 98/100, Train Loss: 0.6856,           Validation Loss: 0.6784, Duration: 0:00:15.786532, Best Val Epoch: 51\n"
          ]
        },
        {
          "name": "stderr",
          "output_type": "stream",
          "text": [
            " 99%|█████████▉| 99/100 [27:14<00:15, 15.76s/it]"
          ]
        },
        {
          "name": "stdout",
          "output_type": "stream",
          "text": [
            "Epoch 99/100, Train Loss: 0.6852,           Validation Loss: 0.6784, Duration: 0:00:15.743540, Best Val Epoch: 51\n"
          ]
        },
        {
          "name": "stderr",
          "output_type": "stream",
          "text": [
            "100%|██████████| 100/100 [27:30<00:00, 16.50s/it]"
          ]
        },
        {
          "name": "stdout",
          "output_type": "stream",
          "text": [
            "Epoch 100/100, Train Loss: 0.6853,           Validation Loss: 0.6784, Duration: 0:00:15.815585, Best Val Epoch: 51\n"
          ]
        },
        {
          "name": "stderr",
          "output_type": "stream",
          "text": [
            "\n"
          ]
        },
        {
          "data": {
            "text/plain": [
              "<matplotlib.legend.Legend at 0x21bae909450>"
            ]
          },
          "execution_count": 11,
          "metadata": {},
          "output_type": "execute_result"
        },
        {
          "data": {
            "image/png": "[encoded data removed]",
            "text/plain": [
              "<Figure size 1500x600 with 1 Axes>"
            ]
          },
          "metadata": {},
          "output_type": "display_data"
        }
      ],
      "source": [
        "print(\"------- List Hyper Parameters -------\")\n",
        "print(\"epochs   ->   \" + str(epochs))\n",
        "print(\"learningRate   ->   \" + str(lr))\n",
        "print(\"horizon    ->     \" + str(T))\n",
        "print(\"batch size   ->    \" + str(batch_size))\n",
        "print(\"Optimizer   ->    \" + str(optimizer))\n",
        "\n",
        "train_losses, val_losses = batch_gd(model, criterion, optimizer, \n",
        "                                     epochs)\n",
        "\n",
        "plt.figure(figsize=(15,6))\n",
        "plt.plot(train_losses, label='train loss')\n",
        "plt.plot(val_losses, label='validation loss')\n",
        "plt.legend()"
      ]
    },
    {
      "cell_type": "markdown",
      "metadata": {
        "id": "F7CF2CwUkn4G"
      },
      "source": [
        "### **Model Testing**"
      ]
    },
    {
      "cell_type": "code",
      "execution_count": 12,
      "metadata": {},
      "outputs": [],
      "source": [
        "# test_loader = torch.utils.data.DataLoader(dataset=dataset_test, batch_size=1, shuffle=False)\n",
        "#model = torch.load(SAVE_FILE_PATH+'_backup')\n",
        "model = torch.load(SAVE_FILE_PATH)\n",
        "\n",
        "# 평가 모드로 전환되면, 드롭아웃이 비활성화되고 배치 정규화의 이동 평균/분산이 업데이트 되지 않음\n",
        "model.eval()\n",
        "\n",
        "n_correct = 0.\n",
        "n_total = 0.\n",
        "all_targets = []\n",
        "all_predictions = []\n",
        "\n",
        "with torch.no_grad():\n",
        "    for inputs, targets in tqdm(test_loader):\n",
        "        # Move to GPU\n",
        "        inputs, targets = inputs.to(device, dtype=torch.float), targets.to(device, dtype=torch.int64)\n",
        "\n",
        "        # Forward pass\n",
        "        outputs = model(inputs)\n",
        "        #outputs = torch.squeeze(outputs)\n",
        "        # Get prediction\n",
        "        # torch.max returns both max and argmax\n",
        "        _, predictions = torch.max(outputs, 1)\n",
        "\n",
        "        # update counts\n",
        "        n_correct += (predictions == targets).sum().item()\n",
        "        n_total += targets.shape[0]\n",
        "\n",
        "        all_targets.append(targets.cpu().numpy())\n",
        "        all_predictions.append(predictions.cpu().numpy())\n",
        "\n",
        "test_acc = n_correct / n_total\n",
        "print(f\"Test acc: {test_acc:.4f}\")\n",
        "  \n",
        "all_targets = np.concatenate(all_targets)    \n",
        "all_predictions = np.concatenate(all_predictions)    "
      ]
    },
    {
      "cell_type": "code",
      "execution_count": 14,
      "metadata": {
        "colab": {
          "base_uri": "https://localhost:8080/"
        },
        "id": "0oOu5lwf6zw0",
        "outputId": "ce465ea5-c931-461f-96de-e05aef8e905b"
      },
      "outputs": [
        {
          "name": "stdout",
          "output_type": "stream",
          "text": [
            "accuracy_score: 0.8798693156985951\n",
            "              precision    recall  f1-score   support\n",
            "\n",
            "           0     0.8819    0.8544    0.8679     38464\n",
            "           1     0.8556    0.9404    0.8960     65997\n",
            "           2     0.9364    0.7941    0.8594     35112\n",
            "\n",
            "    accuracy                         0.8799    139573\n",
            "   macro avg     0.8913    0.8629    0.8744    139573\n",
            "weighted avg     0.8832    0.8799    0.8790    139573\n",
            "\n"
          ]
        },
        {
          "data": {
            "image/png": "[encoded data removed]",
            "text/plain": [
              "<Figure size 640x480 with 2 Axes>"
            ]
          },
          "metadata": {},
          "output_type": "display_data"
        }
      ],
      "source": [
        "print('accuracy_score:', accuracy_score(all_targets, all_predictions))\n",
        "print(classification_report(all_targets, all_predictions, digits=4))\n",
        "from sklearn.metrics import accuracy_score, classification_report, confusion_matrix, ConfusionMatrixDisplay\n",
        "\n",
        "c = confusion_matrix(all_targets, all_predictions, normalize=\"true\")\n",
        "disp = ConfusionMatrixDisplay(c)\n",
        "disp.plot()\n",
        "plt.show()"
      ]
    }
  ],
  "metadata": {
    "colab": {
      "provenance": []
    },
    "gpuClass": "premium",
    "kernelspec": {
      "display_name": "Python 3",
      "name": "python3"
    },
    "language_info": {
      "codemirror_mode": {
        "name": "ipython",
        "version": 3
      },
      "file_extension": ".py",
      "mimetype": "text/x-python",
      "name": "python",
      "nbconvert_exporter": "python",
      "pygments_lexer": "ipython3",
      "version": "3.11.9"
    }
  },
  "nbformat": 4,
  "nbformat_minor": 0
}
